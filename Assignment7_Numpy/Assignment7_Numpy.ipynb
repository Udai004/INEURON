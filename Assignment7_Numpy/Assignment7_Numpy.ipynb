{
 "cells": [
  {
   "cell_type": "markdown",
   "metadata": {},
   "source": [
    "### Question 1 : \n",
    "\n",
    "Write a function so that the columns of the output matrix are powers of the input\n",
    "vector.\n",
    "The order of the powers is determined by the increasing boolean argument. Specifically, when\n",
    "increasing is False, the i-th output column is the input vector raised element-wise to the power\n",
    "of N - i - 1.\n",
    "\n",
    "HINT: Such a matrix with a geometric progression in each row is named for Alexandre-\n",
    "Theophile Vandermonde."
   ]
  },
  {
   "cell_type": "code",
   "execution_count": 1,
   "metadata": {},
   "outputs": [],
   "source": [
    "import numpy as np\n",
    "## Checked Vandermode function from numpy documentation: https://numpy.org/doc/stable/reference/generated/numpy.vander.html\n",
    "def vandermode_func(x,N):\n",
    "    # x = input matrix should be given in list format. Ex: [1,2,3]\n",
    "    # N = Determines how much the power should be raised\n",
    "    return np.column_stack([np.array(x)**(N-1-i) for i in range(N)])"
   ]
  },
  {
   "cell_type": "code",
   "execution_count": 2,
   "metadata": {},
   "outputs": [
    {
     "data": {
      "text/plain": [
       "array([[ 1,  1,  1,  1],\n",
       "       [ 8,  4,  2,  1],\n",
       "       [27,  9,  3,  1]], dtype=int32)"
      ]
     },
     "execution_count": 2,
     "metadata": {},
     "output_type": "execute_result"
    }
   ],
   "source": [
    "vandermode_func([1,2,3],4)"
   ]
  },
  {
   "cell_type": "markdown",
   "metadata": {},
   "source": [
    "### Using numpy.vander function"
   ]
  },
  {
   "cell_type": "code",
   "execution_count": 3,
   "metadata": {},
   "outputs": [
    {
     "data": {
      "text/plain": [
       "array([[ 1,  1,  1],\n",
       "       [ 4,  2,  1],\n",
       "       [ 9,  3,  1],\n",
       "       [25,  5,  1]])"
      ]
     },
     "execution_count": 3,
     "metadata": {},
     "output_type": "execute_result"
    }
   ],
   "source": [
    "# single line input array\n",
    "x = np.array([1, 2, 3, 5])\n",
    "# input vector\n",
    "N = 3\n",
    "#with increasing value as False\n",
    "np.vander(x, N, increasing=False) "
   ]
  },
  {
   "cell_type": "code",
   "execution_count": 4,
   "metadata": {},
   "outputs": [
    {
     "name": "stdout",
     "output_type": "stream",
     "text": [
      "Vandermonde Matrix is :\n",
      " ########################################\n"
     ]
    },
    {
     "data": {
      "text/plain": [
       "array([[   1,   10,  100],\n",
       "       [   1,   20,  400],\n",
       "       [   1,   30,  900],\n",
       "       [   1,   40, 1600]])"
      ]
     },
     "execution_count": 4,
     "metadata": {},
     "output_type": "execute_result"
    }
   ],
   "source": [
    "# single line input array\n",
    "x = np.array([10, 20, 30, 40])\n",
    "# input vector\n",
    "N = 3\n",
    "#with increasing value as True\n",
    "print('Vandermonde Matrix is :\\n','#'*40)\n",
    "np.vander(x, N, increasing=True) "
   ]
  },
  {
   "cell_type": "code",
   "execution_count": 5,
   "metadata": {},
   "outputs": [
    {
     "name": "stdout",
     "output_type": "stream",
     "text": [
      "@array_function_dispatch(_vander_dispatcher)\n",
      "def vander(x, N=None, increasing=False):\n",
      "    \"\"\"\n",
      "    Generate a Vandermonde matrix.\n",
      "\n",
      "    The columns of the output matrix are powers of the input vector. The\n",
      "    order of the powers is determined by the `increasing` boolean argument.\n",
      "    Specifically, when `increasing` is False, the `i`-th output column is\n",
      "    the input vector raised element-wise to the power of ``N - i - 1``. Such\n",
      "    a matrix with a geometric progression in each row is named for Alexandre-\n",
      "    Theophile Vandermonde.\n",
      "\n",
      "    Parameters\n",
      "    ----------\n",
      "    x : array_like\n",
      "        1-D input array.\n",
      "    N : int, optional\n",
      "        Number of columns in the output.  If `N` is not specified, a square\n",
      "        array is returned (``N = len(x)``).\n",
      "    increasing : bool, optional\n",
      "        Order of the powers of the columns.  If True, the powers increase\n",
      "        from left to right, if False (the default) they are reversed.\n",
      "\n",
      "        .. versionadded:: 1.9.0\n",
      "\n",
      "    Returns\n",
      "    -------\n",
      "    out : ndarray\n",
      "        Vandermonde matrix.  If `increasing` is False, the first column is\n",
      "        ``x^(N-1)``, the second ``x^(N-2)`` and so forth. If `increasing` is\n",
      "        True, the columns are ``x^0, x^1, ..., x^(N-1)``.\n",
      "\n",
      "    See Also\n",
      "    --------\n",
      "    polynomial.polynomial.polyvander\n",
      "\n",
      "    Examples\n",
      "    --------\n",
      "    >>> x = np.array([1, 2, 3, 5])\n",
      "    >>> N = 3\n",
      "    >>> np.vander(x, N)\n",
      "    array([[ 1,  1,  1],\n",
      "           [ 4,  2,  1],\n",
      "           [ 9,  3,  1],\n",
      "           [25,  5,  1]])\n",
      "\n",
      "    >>> np.column_stack([x**(N-1-i) for i in range(N)])\n",
      "    array([[ 1,  1,  1],\n",
      "           [ 4,  2,  1],\n",
      "           [ 9,  3,  1],\n",
      "           [25,  5,  1]])\n",
      "\n",
      "    >>> x = np.array([1, 2, 3, 5])\n",
      "    >>> np.vander(x)\n",
      "    array([[  1,   1,   1,   1],\n",
      "           [  8,   4,   2,   1],\n",
      "           [ 27,   9,   3,   1],\n",
      "           [125,  25,   5,   1]])\n",
      "    >>> np.vander(x, increasing=True)\n",
      "    array([[  1,   1,   1,   1],\n",
      "           [  1,   2,   4,   8],\n",
      "           [  1,   3,   9,  27],\n",
      "           [  1,   5,  25, 125]])\n",
      "\n",
      "    The determinant of a square Vandermonde matrix is the product\n",
      "    of the differences between the values of the input vector:\n",
      "\n",
      "    >>> np.linalg.det(np.vander(x))\n",
      "    48.000000000000043 # may vary\n",
      "    >>> (5-3)*(5-2)*(5-1)*(3-2)*(3-1)*(2-1)\n",
      "    48\n",
      "\n",
      "    \"\"\"\n",
      "    x = asarray(x)\n",
      "    if x.ndim != 1:\n",
      "        raise ValueError(\"x must be a one-dimensional array or sequence.\")\n",
      "    if N is None:\n",
      "        N = len(x)\n",
      "\n",
      "    v = empty((len(x), N), dtype=promote_types(x.dtype, int))\n",
      "    tmp = v[:, ::-1] if not increasing else v\n",
      "\n",
      "    if N > 0:\n",
      "        tmp[:, 0] = 1\n",
      "    if N > 1:\n",
      "        tmp[:, 1:] = x[:, None]\n",
      "        multiply.accumulate(tmp[:, 1:], out=tmp[:, 1:], axis=1)\n",
      "\n",
      "    return v\n",
      "\n"
     ]
    }
   ],
   "source": [
    "### Numpy documentation for np.vander\n",
    "import inspect\n",
    "print(inspect.getsource(np.vander))"
   ]
  },
  {
   "cell_type": "markdown",
   "metadata": {},
   "source": [
    "## Question 2"
   ]
  },
  {
   "cell_type": "markdown",
   "metadata": {},
   "source": [
    "Given a sequence of n values x1, x2, ..., xn and a window size k>0, the k-th moving average of\n",
    "the given sequence is defined as follows:\n",
    "\n",
    "The moving average sequence has n-k+1 elements as shown below.\n",
    "\n",
    "The moving averages with k=4 of a ten-value sequence (n=10) is shown below\n",
    "\n",
    "i 1 2 3 4 5 6 7 8 9 10\n",
    "\n",
    "===== == == == == == == == == == ==\n",
    "\n",
    "Input 10 20 30 40 50 60 70 80 90 100\n",
    "\n",
    "y1 25 = (10+20+30+40)/4\n",
    "\n",
    "y2 35 = (20+30+40+50)/4\n",
    "\n",
    "y3 45 = (30+40+50+60)/4\n",
    "\n",
    "y4 55 = (40+50+60+70)/4\n",
    "\n",
    "y5 65 = (50+60+70+80)/4\n",
    "\n",
    "y6 75 = (60+70+80+90)/4\n",
    "\n",
    "y7 85 = (70+80+90+100)/4\n",
    "\n",
    "Thus, the moving average sequence has n-k+1=10-4+1=7 values.\n",
    "\n",
    "Question: Write a function to find moving average in an array over a window:\n",
    "Test it over [3, 5, 7, 2, 8, 10, 11, 65, 72, 81, 99, 100, 150] and window of 3."
   ]
  },
  {
   "cell_type": "code",
   "execution_count": 6,
   "metadata": {},
   "outputs": [],
   "source": [
    "def moving_average(my_lst, k):\n",
    "    sum_val = [0]\n",
    "    moving_aver =[]\n",
    "    for i, x in enumerate(my_lst, 1):\n",
    "        sum_val.append(sum_val[i-1] + x) # summing up all the values and appending into sum_val list\n",
    "        if i>=k:\n",
    "            #Calculating the moving average  and appending into moving_aver for each iteration\n",
    "            moving_aver.append(round(((sum_val[i] - sum_val[i-k])/k),2)) \n",
    "    print(\"Moving average values are: \", moving_aver,'\\n')\n",
    "    print(\"The moving average sequence has n-k+1:\", len(moving_aver) ,' Values')"
   ]
  },
  {
   "cell_type": "code",
   "execution_count": 7,
   "metadata": {},
   "outputs": [
    {
     "name": "stdout",
     "output_type": "stream",
     "text": [
      "Moving average values are:  [5.0, 4.67, 5.67, 6.67, 9.67, 28.67, 49.33, 72.67, 84.0, 93.33, 116.33] \n",
      "\n",
      "The moving average sequence has n-k+1: 11  Values\n"
     ]
    }
   ],
   "source": [
    "my_lst = [3, 5, 7, 2, 8, 10, 11, 65, 72, 81, 99, 100, 150] \n",
    "k=3\n",
    "moving_average(my_lst, k)"
   ]
  },
  {
   "cell_type": "code",
   "execution_count": null,
   "metadata": {},
   "outputs": [],
   "source": []
  },
  {
   "cell_type": "code",
   "execution_count": null,
   "metadata": {},
   "outputs": [],
   "source": []
  },
  {
   "cell_type": "code",
   "execution_count": null,
   "metadata": {},
   "outputs": [],
   "source": []
  },
  {
   "cell_type": "code",
   "execution_count": null,
   "metadata": {},
   "outputs": [],
   "source": []
  },
  {
   "cell_type": "code",
   "execution_count": null,
   "metadata": {},
   "outputs": [],
   "source": []
  },
  {
   "cell_type": "code",
   "execution_count": null,
   "metadata": {},
   "outputs": [],
   "source": []
  },
  {
   "cell_type": "code",
   "execution_count": null,
   "metadata": {},
   "outputs": [],
   "source": []
  },
  {
   "cell_type": "code",
   "execution_count": null,
   "metadata": {},
   "outputs": [],
   "source": []
  },
  {
   "cell_type": "code",
   "execution_count": null,
   "metadata": {},
   "outputs": [],
   "source": []
  },
  {
   "cell_type": "code",
   "execution_count": null,
   "metadata": {},
   "outputs": [],
   "source": []
  },
  {
   "cell_type": "code",
   "execution_count": null,
   "metadata": {},
   "outputs": [],
   "source": []
  }
 ],
 "metadata": {
  "kernelspec": {
   "display_name": "Python 3",
   "language": "python",
   "name": "python3"
  },
  "language_info": {
   "codemirror_mode": {
    "name": "ipython",
    "version": 3
   },
   "file_extension": ".py",
   "mimetype": "text/x-python",
   "name": "python",
   "nbconvert_exporter": "python",
   "pygments_lexer": "ipython3",
   "version": "3.8.3"
  },
  "varInspector": {
   "cols": {
    "lenName": 16,
    "lenType": 16,
    "lenVar": 40
   },
   "kernels_config": {
    "python": {
     "delete_cmd_postfix": "",
     "delete_cmd_prefix": "del ",
     "library": "var_list.py",
     "varRefreshCmd": "print(var_dic_list())"
    },
    "r": {
     "delete_cmd_postfix": ") ",
     "delete_cmd_prefix": "rm(",
     "library": "var_list.r",
     "varRefreshCmd": "cat(var_dic_list()) "
    }
   },
   "types_to_exclude": [
    "module",
    "function",
    "builtin_function_or_method",
    "instance",
    "_Feature"
   ],
   "window_display": false
  }
 },
 "nbformat": 4,
 "nbformat_minor": 4
}
