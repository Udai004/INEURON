{
 "cells": [
  {
   "cell_type": "raw",
   "metadata": {},
   "source": [
    "1.1 Write a Python Program(with class concepts) to find the area of the triangle using the below\n",
    "formula.\n",
    "area = (s*(s-a)*(s-b)*(s-c)) ** 0.5\n",
    "Function to take the length of the sides of triangle from user should be defined in the parent\n",
    "class and function to calculate the area should be defined in subclass.\n",
    "\n",
    "1.2 Write a function filter_long_words() that takes a list of words and an integer n and returns\n",
    "the list of words that are longer than n.\n",
    "\n",
    "2.1 Write a Python program using function concept that maps list of words into a list of integers\n",
    "representing the lengths of the corresponding words.\n",
    "\n",
    "Hint: If a list [ ab,cde,erty] is passed on to the python function output should come as [2,3,4]\n",
    "Here 2,3 and 4 are the lengths of the words in the list.\n",
    "\n",
    "2.2 Write a Python function which takes a character (i.e. a string of length 1) and returns True if\n",
    "it is a vowel, False otherwise."
   ]
  },
  {
   "cell_type": "code",
   "execution_count": 17,
   "metadata": {},
   "outputs": [],
   "source": [
    "# Question 1 : \n",
    "#     Write a Python Program(with class concepts) to find the area of the triangle using the below\n",
    "# formula.\n",
    "# area = (s*(s-a)*(s-b)*(s-c)) ** 0.5\n",
    "# Function to take the length of the sides of triangle from user should be defined in the parent\n",
    "# class and function to calculate the area should be defined in subclass.\n"
   ]
  },
  {
   "cell_type": "code",
   "execution_count": 14,
   "metadata": {},
   "outputs": [],
   "source": [
    "class Triangle:\n",
    "    def __init__(self, side1, side2, side3):\n",
    "        self.side1 = side1\n",
    "        self.side2 = side2\n",
    "        self.side3 = side3\n",
    "        print (\"Initialised Triagle class : [\" +  str(side1) + \",\" + str(side2) + \",\" + str(side3) + \"]\\n\")\n"
   ]
  },
  {
   "cell_type": "code",
   "execution_count": 15,
   "metadata": {},
   "outputs": [],
   "source": [
    "\n",
    "class Triangle_Utilities(Triangle):\n",
    "    def __init__(self, side1, side2, side3):\n",
    "        print (\"Initialised Utils Child class\\n\" )\n",
    "        super(Triangle_Utilities, self).__init__(side1, side2, side3)\n",
    "    def get_area(self):\n",
    "        s = (self.side1 + self.side2 + self.side3)/2\n",
    "        print (\"Sum of sides of traingle is : \"+ str(s) +'\\n')\n",
    "        return (s*(s-self.side1)*(s-self.side2)*(s-self.side3))**0.5\n",
    "\n"
   ]
  },
  {
   "cell_type": "code",
   "execution_count": 16,
   "metadata": {},
   "outputs": [
    {
     "name": "stdout",
     "output_type": "stream",
     "text": [
      "Initialised Utils Child class\n",
      "\n",
      "Initialised Triagle class : [7,8,9]\n",
      "\n",
      "Sum of sides of traingle is : 12.0\n",
      "\n",
      "Area of triangle = 26.832815729997478\n"
     ]
    }
   ],
   "source": [
    "instance = Triangle_Utilities(7,8,9)\n",
    "print (\"Area of triangle = \" + str(instance.get_area()) )"
   ]
  },
  {
   "cell_type": "code",
   "execution_count": 19,
   "metadata": {},
   "outputs": [],
   "source": [
    "# Question 2 : Write a function filter_long_words() that takes a list of words and an integer n and returns\n",
    "# the list of words that are longer than n."
   ]
  },
  {
   "cell_type": "code",
   "execution_count": 22,
   "metadata": {},
   "outputs": [],
   "source": [
    "class list_Utilities:\n",
    "    def __init__(self, wordlist):\n",
    "        self.wordlist = wordlist\n",
    "        print (\"Initialised list_Utilities object \\n\")\n",
    "    def filter_long_words(self, n):\n",
    "        return list(filter(lambda x:len(x) > n, self.wordlist))\n"
   ]
  },
  {
   "cell_type": "code",
   "execution_count": 23,
   "metadata": {},
   "outputs": [
    {
     "name": "stdout",
     "output_type": "stream",
     "text": [
      "Initialised list_Utilities object \n",
      "\n",
      "Filtered words are : ['This', 'beautiful']\n"
     ]
    }
   ],
   "source": [
    "\n",
    "instance = list_Utilities([\"This\",\"is\",\"a\",\"beautiful\",\"day\"])\n",
    "print (\"Filtered words are : \" + str(instance.filter_long_words(3)) ) ## here considered n=3 so result will give words\\\n",
    "                                                                             #which are having length > 3"
   ]
  },
  {
   "cell_type": "code",
   "execution_count": null,
   "metadata": {},
   "outputs": [],
   "source": []
  },
  {
   "cell_type": "code",
   "execution_count": 25,
   "metadata": {},
   "outputs": [],
   "source": [
    "# Question 3 :  Write a Python program using function concept that maps list of words into a list of integers\n",
    "# representing the lengths of the corresponding words.\n",
    "\n",
    "# Hint: If a list [ ab,cde,erty] is passed on to the python function output should come as [2,3,4]\n",
    "# Here 2,3 and 4 are the lengths of the words in the list."
   ]
  },
  {
   "cell_type": "code",
   "execution_count": 28,
   "metadata": {},
   "outputs": [],
   "source": [
    "def word_length(wordlist):\n",
    "    return list(map(lambda x: len(x), wordlist))\n"
   ]
  },
  {
   "cell_type": "code",
   "execution_count": 31,
   "metadata": {},
   "outputs": [
    {
     "name": "stdout",
     "output_type": "stream",
     "text": [
      "Length of the words in the given list ['This', 'is', 'a', 'beautiful', 'day'] : \n",
      "[4, 2, 1, 9, 3]\n"
     ]
    }
   ],
   "source": [
    "wordlist = [\"This\", \"is\", \"a\", \"beautiful\", \"day\"]\n",
    "print (f\"Length of the words in the given list {wordlist} : \\n\" + str(word_length(wordlist)))"
   ]
  },
  {
   "cell_type": "code",
   "execution_count": null,
   "metadata": {},
   "outputs": [],
   "source": []
  },
  {
   "cell_type": "code",
   "execution_count": null,
   "metadata": {},
   "outputs": [],
   "source": [
    "# Question 4: Write a Python function which takes a character (i.e. a string of length 1) and returns True if\n",
    "# it is a vowel, False otherwise."
   ]
  },
  {
   "cell_type": "code",
   "execution_count": 42,
   "metadata": {},
   "outputs": [],
   "source": [
    "def vowel_check(char):\n",
    "    if(char == 'a' or char == 'e' or char == 'i' or char == 'o' or char == 'u' or \\\n",
    "       char == 'A' or char == 'E' or char == 'I' or char == 'O' or char == 'U'):\n",
    "        return True\n",
    "    else:\n",
    "        return False\n"
   ]
  },
  {
   "cell_type": "code",
   "execution_count": 43,
   "metadata": {},
   "outputs": [
    {
     "name": "stdout",
     "output_type": "stream",
     "text": [
      "Enter character: O\n",
      "O is a vowel.\n"
     ]
    }
   ],
   "source": [
    "char = input(\"Enter character: \")\n",
    "\n",
    "try:\n",
    "    if (char.isalpha() == False) or (len(char) > 1):\n",
    "        raise Exception\n",
    "    else:\n",
    "        if (vowel_check(char)):\n",
    "            print(char, \"is a vowel.\")\n",
    "        else:\n",
    "            print(char, \"is not a vowel.\")\n",
    "except Exception:\n",
    "    print(f'Entered string : \\'{char}\\' is having count more than length 1 or may contain numeric or special character')"
   ]
  },
  {
   "cell_type": "code",
   "execution_count": null,
   "metadata": {},
   "outputs": [],
   "source": []
  },
  {
   "cell_type": "code",
   "execution_count": null,
   "metadata": {},
   "outputs": [],
   "source": []
  },
  {
   "cell_type": "code",
   "execution_count": null,
   "metadata": {},
   "outputs": [],
   "source": []
  },
  {
   "cell_type": "code",
   "execution_count": null,
   "metadata": {},
   "outputs": [],
   "source": []
  },
  {
   "cell_type": "code",
   "execution_count": null,
   "metadata": {},
   "outputs": [],
   "source": []
  },
  {
   "cell_type": "code",
   "execution_count": null,
   "metadata": {},
   "outputs": [],
   "source": []
  },
  {
   "cell_type": "code",
   "execution_count": null,
   "metadata": {},
   "outputs": [],
   "source": []
  },
  {
   "cell_type": "code",
   "execution_count": null,
   "metadata": {},
   "outputs": [],
   "source": []
  },
  {
   "cell_type": "code",
   "execution_count": null,
   "metadata": {},
   "outputs": [],
   "source": []
  },
  {
   "cell_type": "code",
   "execution_count": null,
   "metadata": {},
   "outputs": [],
   "source": []
  }
 ],
 "metadata": {
  "kernelspec": {
   "display_name": "Python 3",
   "language": "python",
   "name": "python3"
  },
  "language_info": {
   "codemirror_mode": {
    "name": "ipython",
    "version": 3
   },
   "file_extension": ".py",
   "mimetype": "text/x-python",
   "name": "python",
   "nbconvert_exporter": "python",
   "pygments_lexer": "ipython3",
   "version": "3.8.3"
  },
  "varInspector": {
   "cols": {
    "lenName": 16,
    "lenType": 16,
    "lenVar": 40
   },
   "kernels_config": {
    "python": {
     "delete_cmd_postfix": "",
     "delete_cmd_prefix": "del ",
     "library": "var_list.py",
     "varRefreshCmd": "print(var_dic_list())"
    },
    "r": {
     "delete_cmd_postfix": ") ",
     "delete_cmd_prefix": "rm(",
     "library": "var_list.r",
     "varRefreshCmd": "cat(var_dic_list()) "
    }
   },
   "types_to_exclude": [
    "module",
    "function",
    "builtin_function_or_method",
    "instance",
    "_Feature"
   ],
   "window_display": false
  }
 },
 "nbformat": 4,
 "nbformat_minor": 4
}
